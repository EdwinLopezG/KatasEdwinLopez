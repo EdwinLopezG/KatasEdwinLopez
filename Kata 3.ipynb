{
 "cells": [
  {
   "cell_type": "markdown",
   "metadata": {},
   "source": [
    "Kata 3"
   ]
  },
  {
   "cell_type": "code",
   "execution_count": 25,
   "metadata": {},
   "outputs": [
    {
     "name": "stdout",
     "output_type": "stream",
     "text": [
      "PELIGRO !! :O\n"
     ]
    }
   ],
   "source": [
    "asteroide =49\n",
    "if asteroide >25:\n",
    "    print (\"PELIGRO !! :O\")\n",
    "else:\n",
    "    print(\"Nada de que preocuparse\")"
   ]
  },
  {
   "cell_type": "code",
   "execution_count": 27,
   "metadata": {},
   "outputs": [
    {
     "name": "stdout",
     "output_type": "stream",
     "text": [
      "No se verá nada\n"
     ]
    }
   ],
   "source": [
    "asteroide=19\n",
    "if asteroide >= 20:\n",
    "    print(\"Se puede ver la estela de luz\")\n",
    "elif asteroide ==20 :\n",
    "    print(\"Se puede ver la estela de luz\")\n",
    "\n",
    "else: \n",
    "    print(\"No se verá nada\")\n"
   ]
  },
  {
   "cell_type": "code",
   "execution_count": 44,
   "metadata": {},
   "outputs": [
    {
     "name": "stdout",
     "output_type": "stream",
     "text": [
      "Se puede ver la estela de luz\n"
     ]
    }
   ],
   "source": [
    "Velocidad_asteroide= 25\n",
    "Tamaño_asteroide=1\n",
    "if Tamaño_asteroide >=25 and Velocidad_asteroide >=25:\n",
    "    print(\"El asteroide puede causar mucho daño!!\")\n",
    "elif Velocidad_asteroide >=20:\n",
    "    print (\"Se puede ver la estela de luz\")\n",
    "elif Tamaño_asteroide <= 20:\n",
    "    print (\"El asteroide se desintegrará\")\n",
    "else:\n",
    "     print(\"Nada de que preocuparse\")"
   ]
  }
 ],
 "metadata": {
  "interpreter": {
   "hash": "803d9b7754268aba8ad9650d39d3a79159d3f3f89238da562b3d9c58865f4bd1"
  },
  "kernelspec": {
   "display_name": "Python 3.10.2 64-bit",
   "language": "python",
   "name": "python3"
  },
  "language_info": {
   "codemirror_mode": {
    "name": "ipython",
    "version": 3
   },
   "file_extension": ".py",
   "mimetype": "text/x-python",
   "name": "python",
   "nbconvert_exporter": "python",
   "pygments_lexer": "ipython3",
   "version": "3.10.2"
  },
  "orig_nbformat": 4
 },
 "nbformat": 4,
 "nbformat_minor": 2
}
